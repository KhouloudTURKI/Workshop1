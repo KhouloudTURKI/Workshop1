{
 "cells": [
  {
   "cell_type": "code",
   "execution_count": 1,
   "id": "742bcf67",
   "metadata": {},
   "outputs": [
    {
     "name": "stdout",
     "output_type": "stream",
     "text": [
      "welcome to python world\n"
     ]
    }
   ],
   "source": [
    "print (\"welcome to python world\")"
   ]
  },
  {
   "cell_type": "code",
   "execution_count": null,
   "id": "507ae5a9",
   "metadata": {},
   "outputs": [],
   "source": [
    "x = (2>5) == (3==6)\n",
    "if x :\n",
    "    print('x is True')\n",
    "else:\n",
    "    print('x is not True')"
   ]
  }
 ],
 "metadata": {
  "kernelspec": {
   "display_name": "Python 3 (ipykernel)",
   "language": "python",
   "name": "python3"
  },
  "language_info": {
   "codemirror_mode": {
    "name": "ipython",
    "version": 3
   },
   "file_extension": ".py",
   "mimetype": "text/x-python",
   "name": "python",
   "nbconvert_exporter": "python",
   "pygments_lexer": "ipython3",
   "version": "3.9.7"
  }
 },
 "nbformat": 4,
 "nbformat_minor": 5
}

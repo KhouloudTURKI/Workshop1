{
 "cells": [
  {
   "cell_type": "code",
   "execution_count": 1,
   "id": "ae33732a",
   "metadata": {},
   "outputs": [
    {
     "name": "stdout",
     "output_type": "stream",
     "text": [
      "x is True\n"
     ]
    }
   ],
   "source": [
    "x = (2>5) == (3==6)\n",
    "if x :\n",
    "    print('x is True')\n",
    "else:\n",
    "    print('x is not True')"
   ]
  },
  {
   "cell_type": "code",
   "execution_count": 2,
   "id": "ae4db778",
   "metadata": {},
   "outputs": [
    {
     "name": "stdout",
     "output_type": "stream",
     "text": [
      "X is equal to 10\n"
     ]
    }
   ],
   "source": [
    "x=10\n",
    "if x==1:\n",
    "      print('X is equal to 1')\n",
    "elif x==5:\n",
    "      print('X is equal to 5')\n",
    "elif x==10:\n",
    "      print('X is equal to 10')\n",
    "else: \n",
    "      print('X =', x)"
   ]
  },
  {
   "cell_type": "code",
   "execution_count": 3,
   "id": "ba39afa1",
   "metadata": {},
   "outputs": [
    {
     "name": "stdout",
     "output_type": "stream",
     "text": [
      "Good evening\n"
     ]
    }
   ],
   "source": [
    "x=19\n",
    "\n",
    "if x < 10:\n",
    "    print (\"Good morning\")\n",
    "elif x<12: \n",
    "    print (\"Soon time for lunch\")\n",
    "\n",
    "elif x<18: \n",
    "    print (\"Good day\")\n",
    "\n",
    "elif x<22: \n",
    "    print (\"Good evening\")\n",
    "\n",
    "else: \n",
    "    print (\"Good night\")\n",
    "         "
   ]
  },
  {
   "cell_type": "code",
   "execution_count": 4,
   "id": "a1c63665",
   "metadata": {},
   "outputs": [
    {
     "name": "stdout",
     "output_type": "stream",
     "text": [
      "6\n",
      "5\n",
      "3\n",
      "8\n",
      "4\n",
      "2\n",
      "5\n",
      "4\n",
      "11\n",
      "the for ends here\n"
     ]
    }
   ],
   "source": [
    "numbers = [6, 5, 3, 8, 4, 2, 5, 4, 11]\n",
    "for val in numbers: # iterate over the list\n",
    "\tprint(val)\n",
    "print(\"the for ends here\")"
   ]
  },
  {
   "cell_type": "code",
   "execution_count": 5,
   "id": "1e8676ca",
   "metadata": {},
   "outputs": [
    {
     "name": "stdout",
     "output_type": "stream",
     "text": [
      "0\n",
      "1\n",
      "2\n",
      "3\n",
      "4\n"
     ]
    }
   ],
   "source": [
    "for i in range(5):\n",
    "    print(i)"
   ]
  },
  {
   "cell_type": "code",
   "execution_count": 6,
   "id": "4c89c2b0",
   "metadata": {},
   "outputs": [
    {
     "name": "stdout",
     "output_type": "stream",
     "text": [
      "1\n",
      "3\n",
      "5\n",
      "7\n",
      "9\n",
      "11\n",
      "13\n",
      "15\n",
      "17\n",
      "19\n"
     ]
    }
   ],
   "source": [
    " for i in range(1,20,2) :\n",
    "        print (i)"
   ]
  },
  {
   "cell_type": "code",
   "execution_count": 12,
   "id": "385f58ac",
   "metadata": {},
   "outputs": [
    {
     "ename": "NameError",
     "evalue": "name 'n' is not defined",
     "output_type": "error",
     "traceback": [
      "\u001b[1;31m---------------------------------------------------------------------------\u001b[0m",
      "\u001b[1;31mNameError\u001b[0m                                 Traceback (most recent call last)",
      "\u001b[1;32m~\\AppData\\Local\\Temp/ipykernel_5104/3235375991.py\u001b[0m in \u001b[0;36m<module>\u001b[1;34m\u001b[0m\n\u001b[0;32m      2\u001b[0m \u001b[0mi\u001b[0m \u001b[1;33m=\u001b[0m \u001b[1;36m1\u001b[0m\u001b[1;33m\u001b[0m\u001b[1;33m\u001b[0m\u001b[0m\n\u001b[0;32m      3\u001b[0m \u001b[1;33m\u001b[0m\u001b[0m\n\u001b[1;32m----> 4\u001b[1;33m \u001b[1;32mwhile\u001b[0m \u001b[0mi\u001b[0m \u001b[1;33m<=\u001b[0m \u001b[0mn\u001b[0m\u001b[1;33m:\u001b[0m\u001b[1;33m\u001b[0m\u001b[1;33m\u001b[0m\u001b[0m\n\u001b[0m\u001b[0;32m      5\u001b[0m     \u001b[0msum\u001b[0m \u001b[1;33m=\u001b[0m \u001b[0msum\u001b[0m \u001b[1;33m+\u001b[0m \u001b[0mi\u001b[0m\u001b[1;33m\u001b[0m\u001b[1;33m\u001b[0m\u001b[0m\n\u001b[0;32m      6\u001b[0m     \u001b[0mi\u001b[0m \u001b[1;33m=\u001b[0m \u001b[0mi\u001b[0m\u001b[1;33m+\u001b[0m\u001b[1;36m1\u001b[0m\u001b[1;33m\u001b[0m\u001b[1;33m\u001b[0m\u001b[0m\n",
      "\u001b[1;31mNameError\u001b[0m: name 'n' is not defined"
     ]
    }
   ],
   "source": [
    "sum = 0 \n",
    "i = 1\n",
    "\n",
    "while i <= n:\n",
    "    sum = sum + i\n",
    "    i = i+1    \n",
    "\n",
    "print(\"The sum is\", sum)"
   ]
  },
  {
   "cell_type": "code",
   "execution_count": null,
   "id": "8834eedc",
   "metadata": {},
   "outputs": [],
   "source": [
    "while 4 == 3:\n",
    "    print('4')"
   ]
  },
  {
   "cell_type": "code",
   "execution_count": null,
   "id": "1ef835d0",
   "metadata": {},
   "outputs": [],
   "source": []
  }
 ],
 "metadata": {
  "kernelspec": {
   "display_name": "Python 3 (ipykernel)",
   "language": "python",
   "name": "python3"
  },
  "language_info": {
   "codemirror_mode": {
    "name": "ipython",
    "version": 3
   },
   "file_extension": ".py",
   "mimetype": "text/x-python",
   "name": "python",
   "nbconvert_exporter": "python",
   "pygments_lexer": "ipython3",
   "version": "3.9.7"
  }
 },
 "nbformat": 4,
 "nbformat_minor": 5
}
